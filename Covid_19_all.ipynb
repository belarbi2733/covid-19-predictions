{
  "nbformat": 4,
  "nbformat_minor": 0,
  "metadata": {
    "colab": {
      "name": "Covid-19-all.ipynb",
      "provenance": [],
      "collapsed_sections": [],
      "toc_visible": true
    },
    "kernelspec": {
      "name": "python3",
      "display_name": "Python 3"
    },
    "accelerator": "GPU"
  },
  "cells": [
    {
      "cell_type": "markdown",
      "metadata": {
        "id": "F3fsCXIu46Go",
        "colab_type": "text"
      },
      "source": [
        "# Some installation"
      ]
    },
    {
      "cell_type": "code",
      "metadata": {
        "id": "c3rCQqxwqhTW",
        "colab_type": "code",
        "colab": {}
      },
      "source": [
        "!pip install pmdarima\n",
        "!pip install chart_studio\n",
        "!pip install pyramid-arima"
      ],
      "execution_count": 0,
      "outputs": []
    },
    {
      "cell_type": "markdown",
      "metadata": {
        "id": "RbZMrt9W4-Vq",
        "colab_type": "text"
      },
      "source": [
        "# Some import and configuration"
      ]
    },
    {
      "cell_type": "code",
      "metadata": {
        "id": "VxNgolBLQehP",
        "colab_type": "code",
        "colab": {}
      },
      "source": [
        "import warnings\n",
        "import itertools\n",
        "import numpy as np\n",
        "import matplotlib.pyplot as plt\n",
        "warnings.filterwarnings(\"ignore\")\n",
        "plt.style.use('fivethirtyeight')\n",
        "import pandas as pd\n",
        "import statsmodels.api as sm\n",
        "import matplotlib\n",
        "from datetime import datetime\n",
        "import chart_studio\n",
        "import chart_studio.plotly as ply\n",
        "import cufflinks as cf\n",
        "import plotly.graph_objects as go"
      ],
      "execution_count": 0,
      "outputs": []
    },
    {
      "cell_type": "code",
      "metadata": {
        "id": "RD8qrbzlQ651",
        "colab_type": "code",
        "colab": {}
      },
      "source": [
        "matplotlib.rcParams['axes.labelsize'] = 14\n",
        "matplotlib.rcParams['xtick.labelsize'] = 12\n",
        "matplotlib.rcParams['ytick.labelsize'] = 12\n",
        "matplotlib.rcParams['text.color'] = 'k'"
      ],
      "execution_count": 0,
      "outputs": []
    },
    {
      "cell_type": "code",
      "metadata": {
        "id": "f0bVV44kYe1o",
        "colab_type": "code",
        "colab": {}
      },
      "source": [
        "# go to and get api_key you need to sign-up : https://chart-studio.plot.ly/settings/api#/\n",
        "chart_studio.tools.set_credentials_file(username='***********', api_key='***********')"
      ],
      "execution_count": 0,
      "outputs": []
    },
    {
      "cell_type": "code",
      "metadata": {
        "id": "U5EiJsF-5pHI",
        "colab_type": "code",
        "colab": {}
      },
      "source": [
        "def str_to_class(str):\n",
        "    return getattr(sys.modules[__name__], str)"
      ],
      "execution_count": 0,
      "outputs": []
    },
    {
      "cell_type": "markdown",
      "metadata": {
        "id": "F8PUUkrcWw9A",
        "colab_type": "text"
      },
      "source": [
        "# Total deaths, confirmed cases in the world"
      ]
    },
    {
      "cell_type": "code",
      "metadata": {
        "id": "OrSJPDkgWv7h",
        "colab_type": "code",
        "colab": {}
      },
      "source": [
        "url_tot = 'https://covid.ourworldindata.org/data/ecdc/total_cases.csv'\n",
        "url_deat= \"https://covid.ourworldindata.org/data/ecdc/total_deaths.csv\"\n",
        "data_tot = pd.read_csv(url_tot,index_col=0)\n",
        "data_death = pd.read_csv(url_deat,index_col=0)"
      ],
      "execution_count": 0,
      "outputs": []
    },
    {
      "cell_type": "code",
      "metadata": {
        "id": "JzfkBM8JZPgo",
        "colab_type": "code",
        "colab": {}
      },
      "source": [
        "x=[i for i in data_death.columns]"
      ],
      "execution_count": 0,
      "outputs": []
    },
    {
      "cell_type": "markdown",
      "metadata": {
        "id": "W22X47ILYFZ8",
        "colab_type": "text"
      },
      "source": [
        "## Read any country data"
      ]
    },
    {
      "cell_type": "code",
      "metadata": {
        "id": "hLFNsv8zZH3R",
        "colab_type": "code",
        "colab": {}
      },
      "source": [
        "country='China' #@param [\"World\",\"Afghanistan\",\"Albania\",\"Algeria\",\"Andorra\",\"Angola\",\"Antigua and Barbuda\",\"Argentina\",\"Armenia\",\"Australia\",\"Austria\",\"Azerbaijan\",\"Bahamas\",\"Bahrain\",\"Bangladesh\",\"Barbados\",\"Belarus\",\"Belgium\",\"Benin\",\"Bermuda\",\"Bhutan\",\"Bolivia\",\"Bosnia and Herzegovina\",\"Brazil\",\"Brunei\",\"Bulgaria\",\"Burkina Faso\",\"Cambodia\",\"Cameroon\",\"Canada\",\"Cape Verde\",\"Cayman Islands\",\"Central African Republic\",\"Chad\",\"Chile\",\"China\",\"Colombia\",\"Congo\",\"Costa Rica\",\"Cote d'Ivoire\",\"Croatia\",\"Cuba\",\"Cyprus\",\"Czech Republic\",\"Democratic Republic of Congo\",\"Denmark\",\"Djibouti\",\"Dominican Republic\",\"Ecuador\",\"Egypt\",\"El Salvador\",\"Equatorial Guinea\",\"Eritrea\",\"Estonia\",\"Ethiopia\",\"Faeroe Islands\",\"Fiji\",\"Finland\",\"France\",\"French Polynesia\",\"Gabon\",\"Gambia\",\"Georgia\",\"Germany\",\"Ghana\",\"Gibraltar\",\"Greece\",\"Greenland\",\"Guam\",\"Guatemala\",\"Guernsey\",\"Guinea\",\"Guyana\",\"Haiti\",\"Honduras\",\"Hungary\",\"Iceland\",\"India\",\"Indonesia\",\"International\",\"Iran\",\"Iraq\",\"Ireland\",\"Isle of Man\",\"Israel\",\"Italy\",\"Jamaica\",\"Japan\",\"Jersey\",\"Jordan\",\"Kazakhstan\",\"Kenya\",\"Kosovo\",\"Kuwait\",\"Kyrgyzstan\",\"Latvia\",\"Lebanon\",\"Liberia\",\"Liechtenstein\",\"Lithuania\",\"Luxembourg\",\"Macedonia\",\"Madagascar\",\"Malaysia\",\"Maldives\",\"Malta\",\"Mauritania\",\"Mauritius\",\"Mexico\",\"Moldova\",\"Monaco\",\"Mongolia\",\"Montenegro\",\"Montserrat\",\"Morocco\",\"Myanmar\",\"Namibia\",\"Nepal\",\"Netherlands\",\"Netherlands Antilles\",\"New Caledonia\",\"New Zealand\",\"Nicaragua\",\"Niger\",\"Nigeria\",\"Norway\",\"Oman\",\"Pakistan\",\"Palestine\",\"Panama\",\"Papua New Guinea\",\"Paraguay\",\"Peru\",\"Philippines\",\"Poland\",\"Portugal\",\"Qatar\",\"Romania\",\"Russia\",\"Rwanda\",\"Saint Lucia\",\"Saint Vincent and the Grenadines\",\"San Marino\",\"Saudi Arabia\",\"Senegal\",\"Serbia\",\"Seychelles\",\"Singapore\",\"Slovakia\",\"Slovenia\",\"Somalia\",\"South Africa\",\"South Korea\",\"Spain\",\"Sri Lanka\",\"Sudan\",\"Suriname\",\"Swaziland\",\"Sweden\",\"Switzerland\",\"Taiwan\",\"Tanzania\",\"Thailand\",\"Timor\",\"Togo\",\"Trinidad and Tobago\",\"Tunisia\",\"Turkey\",\"Uganda\",\"Ukraine\",\"United Arab Emirates\",\"United Kingdom\",\"United States\",\"Uruguay\",\"Uzbekistan\",\"Vatican\",\"Venezuela\",\"Vietnam\",\"Zambia\",\"Zimbabwe\"]"
      ],
      "execution_count": 0,
      "outputs": []
    },
    {
      "cell_type": "markdown",
      "metadata": {
        "id": "7BqyyVvi5RtY",
        "colab_type": "text"
      },
      "source": [
        "## Some statistic information"
      ]
    },
    {
      "cell_type": "code",
      "metadata": {
        "id": "fazlR-LM6NSW",
        "colab_type": "code",
        "colab": {}
      },
      "source": [
        "Which_data = 'Total' #@param [\"Total\",\"Deaths\"]\n",
        "if(Which_data==\"Total\"):\n",
        "  working_data=data_tot\n",
        "  test_caption=\"Total case\"\n",
        "else :\n",
        "  working_data=data_death\n",
        "  test_caption=\"Death case\""
      ],
      "execution_count": 0,
      "outputs": []
    },
    {
      "cell_type": "code",
      "metadata": {
        "id": "u7Y1zSnIXX9U",
        "colab_type": "code",
        "colab": {}
      },
      "source": [
        "working_data[country].describe()"
      ],
      "execution_count": 0,
      "outputs": []
    },
    {
      "cell_type": "code",
      "metadata": {
        "id": "wDIab9omYUq_",
        "colab_type": "code",
        "colab": {}
      },
      "source": [
        "working_data[country].plot(figsize=(15, 6))\n",
        "plt.show()"
      ],
      "execution_count": 0,
      "outputs": []
    },
    {
      "cell_type": "code",
      "metadata": {
        "id": "pyvDuQqZYiop",
        "colab_type": "code",
        "colab": {}
      },
      "source": [
        "working_data[country].iplot(title=\"Covid-19 \"+ country)"
      ],
      "execution_count": 0,
      "outputs": []
    },
    {
      "cell_type": "markdown",
      "metadata": {
        "id": "qK0BKK3Y5YrD",
        "colab_type": "text"
      },
      "source": [
        "## Preparing the data"
      ]
    },
    {
      "cell_type": "code",
      "metadata": {
        "id": "O8S9hBOFYuk4",
        "colab_type": "code",
        "colab": {}
      },
      "source": [
        "#divide into train and validation set\n",
        "ratio = 90 #@param {type:\"slider\", min:0,max:100,  step:5}\n",
        "train = working_data[country][:int((ratio/100)*(len(working_data[country])))]\n",
        "valid = working_data[country][int((ratio/100)*(len(working_data[country]))):]"
      ],
      "execution_count": 0,
      "outputs": []
    },
    {
      "cell_type": "markdown",
      "metadata": {
        "id": "satFur-V3qI-",
        "colab_type": "text"
      },
      "source": [
        "\n",
        "\n",
        "## **1.   Arimax**\n",
        "\n",
        "\n"
      ]
    },
    {
      "cell_type": "code",
      "metadata": {
        "id": "sf278uh6Y6Hg",
        "colab_type": "code",
        "colab": {}
      },
      "source": [
        "p = d = q = range(0, 2)\n",
        "pdq = list(itertools.product(p, d, q))\n",
        "seasonal_pdq = [(x[0], x[1], x[2], 12) for x in list(itertools.product(p, d, q))]\n",
        "print('Examples of parameter combinations for Seasonal ARIMA...')\n",
        "print('SARIMAX: {} x {}'.format(pdq[1], seasonal_pdq[1]))\n",
        "print('SARIMAX: {} x {}'.format(pdq[1], seasonal_pdq[2]))\n",
        "print('SARIMAX: {} x {}'.format(pdq[2], seasonal_pdq[1]))\n",
        "print('SARIMAX: {} x {}'.format(pdq[2], seasonal_pdq[2]))\n",
        "print('SARIMAX: {} x {}'.format(pdq[2], seasonal_pdq[3]))\n",
        "print('SARIMAX: {} x {}'.format(pdq[2], seasonal_pdq[4]))"
      ],
      "execution_count": 0,
      "outputs": []
    },
    {
      "cell_type": "code",
      "metadata": {
        "id": "KrmFd219Y90x",
        "colab_type": "code",
        "colab": {}
      },
      "source": [
        "for param in pdq:\n",
        "    for param_seasonal in seasonal_pdq:\n",
        "        try:\n",
        "            mod = sm.tsa.statespace.SARIMAX(y,order=param,seasonal_order=param_seasonal,enforce_stationarity=False,enforce_invertibility=False)\n",
        "            results = mod.fit()\n",
        "            print('ARIMA{}x{}12 - AIC:{}'.format(param, param_seasonal, results.aic))\n",
        "        except:\n",
        "            continue"
      ],
      "execution_count": 0,
      "outputs": []
    },
    {
      "cell_type": "code",
      "metadata": {
        "id": "rq9b-WuQZB2C",
        "colab_type": "code",
        "colab": {}
      },
      "source": [
        "mod = sm.tsa.statespace.SARIMAX(train,\n",
        "                                order=(1, 1, 1),\n",
        "                                seasonal_order=(1 ,0,1, 12),\n",
        "                                enforce_stationarity=False,\n",
        "                                enforce_invertibility=False)  "
      ],
      "execution_count": 0,
      "outputs": []
    },
    {
      "cell_type": "code",
      "metadata": {
        "id": "TFmVMYQebfc2",
        "colab_type": "code",
        "colab": {}
      },
      "source": [
        "results = mod.fit()\n",
        "print(results.summary().tables[1])"
      ],
      "execution_count": 0,
      "outputs": []
    },
    {
      "cell_type": "markdown",
      "metadata": {
        "id": "mszrw6Qq2pUT",
        "colab_type": "text"
      },
      "source": [
        "## Prediction of train datasets"
      ]
    },
    {
      "cell_type": "code",
      "metadata": {
        "id": "X3n085vRbhQb",
        "colab_type": "code",
        "colab": {}
      },
      "source": [
        "pred = results.get_prediction(start=pd.to_datetime('2019-12-31'), dynamic=False)\n",
        "pred_ci = pred.conf_int()"
      ],
      "execution_count": 0,
      "outputs": []
    },
    {
      "cell_type": "code",
      "metadata": {
        "id": "FSSuwMPJhzuE",
        "colab_type": "code",
        "colab": {}
      },
      "source": [
        "fig = go.Figure()\n",
        "fig.add_trace(go.Scatter(x=working_data[country].index, y=working_data[country].values,\n",
        "                    mode='lines',\n",
        "                    name=test_caption))\n",
        "fig.add_trace(go.Scatter(x=pred.predicted_mean.index, y=pred.predicted_mean.values.astype(int),\n",
        "                    mode='lines',\n",
        "                    name='Predictions'))\n",
        "fig.show()"
      ],
      "execution_count": 0,
      "outputs": []
    },
    {
      "cell_type": "markdown",
      "metadata": {
        "id": "IUuRdVQI2whF",
        "colab_type": "text"
      },
      "source": [
        "## Prediction of validation datasets"
      ]
    },
    {
      "cell_type": "code",
      "metadata": {
        "id": "w8S3l3UHdyTT",
        "colab_type": "code",
        "colab": {}
      },
      "source": [
        "pred_uc = results.get_forecast(len(valid))\n",
        "pred_ci = pred_uc.conf_int()"
      ],
      "execution_count": 0,
      "outputs": []
    },
    {
      "cell_type": "code",
      "metadata": {
        "id": "O-Blq9zciXWB",
        "colab_type": "code",
        "colab": {}
      },
      "source": [
        "fig = go.Figure()\n",
        "fig.add_trace(go.Scatter(x=working_data[country].index, y=working_data[country].values,\n",
        "                    mode='lines',\n",
        "                    name=test_caption))\n",
        "fig.add_trace(go.Scatter(x=pred_uc.predicted_mean.index, y=pred_uc.predicted_mean.values.astype(int),\n",
        "                    mode='lines',\n",
        "                    name='Predictions'))\n",
        "fig.show()"
      ],
      "execution_count": 0,
      "outputs": []
    },
    {
      "cell_type": "markdown",
      "metadata": {
        "id": "C2u_avQ4227L",
        "colab_type": "text"
      },
      "source": [
        "##Predition of the next 15 days"
      ]
    },
    {
      "cell_type": "code",
      "metadata": {
        "id": "O4cYh_qW28Wl",
        "colab_type": "code",
        "colab": {}
      },
      "source": [
        "pred_uc = results.get_forecast(len(valid)+(15-len(valid)))\n",
        "pred_ci = pred_uc.conf_int()"
      ],
      "execution_count": 0,
      "outputs": []
    },
    {
      "cell_type": "code",
      "metadata": {
        "id": "fn-WNioX3iLT",
        "colab_type": "code",
        "colab": {}
      },
      "source": [
        "fig = go.Figure()\n",
        "fig.add_trace(go.Scatter(x=working_data[country].index, y=working_data[country].values,\n",
        "                    mode='lines',\n",
        "                    name=test_caption))\n",
        "fig.add_trace(go.Scatter(x=pred_uc.predicted_mean.index, y=pred_uc.predicted_mean.values.astype(int),\n",
        "                    mode='lines',\n",
        "                    name='Predictions'))\n",
        "fig.show()"
      ],
      "execution_count": 0,
      "outputs": []
    },
    {
      "cell_type": "markdown",
      "metadata": {
        "id": "eWNp5NG312CC",
        "colab_type": "text"
      },
      "source": [
        "## **2.   Autoarima**\n",
        "\n",
        "\n"
      ]
    },
    {
      "cell_type": "markdown",
      "metadata": {
        "id": "xoTQKwAl4DkN",
        "colab_type": "text"
      },
      "source": [
        "## Start training"
      ]
    },
    {
      "cell_type": "code",
      "metadata": {
        "id": "e2M75cSg11VH",
        "colab_type": "code",
        "colab": {}
      },
      "source": [
        "from pmdarima import auto_arima\n",
        "model = auto_arima(train, start_p=1, start_q=1,\n",
        "                           max_p=2, max_q=2, m=12,\n",
        "                           start_P=0, seasonal=True,\n",
        "                           d=1, D=1,trace=True, error_action='ignore', suppress_warnings=True,stepwise=True)\n",
        "model.fit(train)"
      ],
      "execution_count": 0,
      "outputs": []
    },
    {
      "cell_type": "markdown",
      "metadata": {
        "id": "jQlx2PKp4I11",
        "colab_type": "text"
      },
      "source": [
        "## Prediction of the validation datatsets"
      ]
    },
    {
      "cell_type": "code",
      "metadata": {
        "id": "NqxjZ7Gk17sT",
        "colab_type": "code",
        "colab": {}
      },
      "source": [
        "forecast = model.predict(len(valid))"
      ],
      "execution_count": 0,
      "outputs": []
    },
    {
      "cell_type": "code",
      "metadata": {
        "id": "Bu3SlQ9O1_Y4",
        "colab_type": "code",
        "colab": {}
      },
      "source": [
        "import plotly.graph_objects as go\n",
        "fig = go.Figure()\n",
        "fig.add_trace(go.Scatter(x=working_data[country].index, y=working_data[country].values,\n",
        "                    mode='lines',\n",
        "                    name=test_caption))\n",
        "fig.add_trace(go.Scatter(x=valid.index, y=forecast.astype(int),\n",
        "                    mode='lines',\n",
        "                    name='Predictions'))\n",
        "fig.show()"
      ],
      "execution_count": 0,
      "outputs": []
    },
    {
      "cell_type": "markdown",
      "metadata": {
        "id": "gnwMw9CT4cMy",
        "colab_type": "text"
      },
      "source": [
        "## Prediction of the next 15 days"
      ]
    },
    {
      "cell_type": "code",
      "metadata": {
        "id": "G5GH-zDi2I8x",
        "colab_type": "code",
        "colab": {}
      },
      "source": [
        "date_input = '2020-03-23' #@param {type:\"date\"}\n",
        "test = pd.date_range(datetime.strptime(date_input, '%Y-%m-%d').date(), periods=25).tolist()"
      ],
      "execution_count": 0,
      "outputs": []
    },
    {
      "cell_type": "code",
      "metadata": {
        "id": "7h0BwT1B2Pz6",
        "colab_type": "code",
        "colab": {}
      },
      "source": [
        "for i in range(0,len(test)):\n",
        "  test[i] = datetime.strptime(str(test[i]), '%Y-%m-%d %H:%M:%S').date()"
      ],
      "execution_count": 0,
      "outputs": []
    },
    {
      "cell_type": "code",
      "metadata": {
        "id": "2xYwEFBx2Q7W",
        "colab_type": "code",
        "colab": {}
      },
      "source": [
        "forecast = model.predict(len(test))"
      ],
      "execution_count": 0,
      "outputs": []
    },
    {
      "cell_type": "code",
      "metadata": {
        "id": "2DseODES2VKI",
        "colab_type": "code",
        "colab": {}
      },
      "source": [
        "\n",
        "fig = go.Figure()\n",
        "fig.add_trace(go.Scatter(x=working_data[country].index, y=working_data[country].values,\n",
        "                    mode='lines',\n",
        "                    name=test_caption))\n",
        "fig.add_trace(go.Scatter(x=test, y=forecast.astype(int),\n",
        "                    mode='lines',\n",
        "                    name='Predictions'))\n",
        "fig.show()"
      ],
      "execution_count": 0,
      "outputs": []
    },
    {
      "cell_type": "markdown",
      "metadata": {
        "id": "mDZBPkBiYKWp",
        "colab_type": "text"
      },
      "source": [
        "# Read Algeria Data"
      ]
    },
    {
      "cell_type": "code",
      "metadata": {
        "id": "ocMfclzKHoUb",
        "colab_type": "code",
        "colab": {}
      },
      "source": [
        "df = pd.read_csv(\"https://github.com/belarbi2733/docker_file__opencv_algo/releases/download/1/Classeur1.csv\",index_col=0)\n",
        "df.head()"
      ],
      "execution_count": 0,
      "outputs": []
    },
    {
      "cell_type": "code",
      "metadata": {
        "id": "R1t8pRIoRlBi",
        "colab_type": "code",
        "colab": {}
      },
      "source": [
        "df.describe()"
      ],
      "execution_count": 0,
      "outputs": []
    },
    {
      "cell_type": "code",
      "metadata": {
        "id": "il35g5JuVhrG",
        "colab_type": "code",
        "colab": {}
      },
      "source": [
        "index = df.index\n",
        "columns = df.columns\n",
        "values = df.values"
      ],
      "execution_count": 0,
      "outputs": []
    },
    {
      "cell_type": "code",
      "metadata": {
        "id": "-THwu0laJa8d",
        "colab_type": "code",
        "colab": {}
      },
      "source": [
        "for i in range(len(df.index)):\n",
        "  df.index.values[i] = datetime.strptime(df.index[i], '%d-%m-%Y').date()\n"
      ],
      "execution_count": 0,
      "outputs": []
    },
    {
      "cell_type": "code",
      "metadata": {
        "id": "LwENUrxqRNkl",
        "colab_type": "code",
        "colab": {}
      },
      "source": [
        "df.plot(figsize=(15, 6))\n",
        "plt.show()"
      ],
      "execution_count": 0,
      "outputs": []
    },
    {
      "cell_type": "code",
      "metadata": {
        "id": "YCx4dMINIZ9s",
        "colab_type": "code",
        "colab": {}
      },
      "source": [
        "df.iplot(title=\"Covid-19 Algeria\")"
      ],
      "execution_count": 0,
      "outputs": []
    },
    {
      "cell_type": "code",
      "metadata": {
        "id": "ng_m2f7IQbiG",
        "colab_type": "code",
        "colab": {}
      },
      "source": [
        "df1=df"
      ],
      "execution_count": 0,
      "outputs": []
    },
    {
      "cell_type": "code",
      "metadata": {
        "id": "uz43qvd0SQLw",
        "colab_type": "code",
        "colab": {}
      },
      "source": [
        "#divide into train and validation set\n",
        "ratio = 95 #@param {type:\"slider\", min:0,max:100,  step:5}\n",
        "train = df1[:int((ratio/100)*(len(df1)))]\n",
        "valid = df1[int((ratio/100)*(len(df1))):]"
      ],
      "execution_count": 0,
      "outputs": []
    },
    {
      "cell_type": "code",
      "metadata": {
        "id": "QkPdlQ8_QY4u",
        "colab_type": "code",
        "colab": {}
      },
      "source": [
        "p = d = q = range(0, 2)\n",
        "pdq = list(itertools.product(p, d, q))\n",
        "seasonal_pdq = [(x[0], x[1], x[2], 12) for x in list(itertools.product(p, d, q))]\n",
        "print('Examples of parameter combinations for Seasonal ARIMA...')\n",
        "print('SARIMAX: {} x {}'.format(pdq[1], seasonal_pdq[1]))\n",
        "print('SARIMAX: {} x {}'.format(pdq[1], seasonal_pdq[2]))\n",
        "print('SARIMAX: {} x {}'.format(pdq[2], seasonal_pdq[3]))\n",
        "print('SARIMAX: {} x {}'.format(pdq[2], seasonal_pdq[4]))"
      ],
      "execution_count": 0,
      "outputs": []
    },
    {
      "cell_type": "code",
      "metadata": {
        "id": "8VSlvyj3Q4IT",
        "colab_type": "code",
        "colab": {}
      },
      "source": [
        "for param in pdq:\n",
        "    for param_seasonal in seasonal_pdq:\n",
        "        try:\n",
        "            mod = sm.tsa.statespace.SARIMAX(y,order=param,seasonal_order=param_seasonal,enforce_stationarity=False,enforce_invertibility=False)\n",
        "            results = mod.fit()\n",
        "            print('ARIMA{}x{}12 - AIC:{}'.format(param, param_seasonal, results.aic))\n",
        "        except:\n",
        "            continue"
      ],
      "execution_count": 0,
      "outputs": []
    },
    {
      "cell_type": "code",
      "metadata": {
        "id": "2zJJ1-3b2vDE",
        "colab_type": "code",
        "colab": {}
      },
      "source": [
        "cases='confirmed' #@param [\"deaths\",\"recovered\",\"confirmed\"]"
      ],
      "execution_count": 0,
      "outputs": []
    },
    {
      "cell_type": "code",
      "metadata": {
        "id": "ubdsZ_OkSKrR",
        "colab_type": "code",
        "colab": {}
      },
      "source": [
        "mod = sm.tsa.statespace.SARIMAX(train[cases],\n",
        "                                order=(1, 1, 1),\n",
        "                                seasonal_order=(1 ,0,0, 12),\n",
        "                                enforce_stationarity=False,\n",
        "                                enforce_invertibility=False)                              \n"
      ],
      "execution_count": 0,
      "outputs": []
    },
    {
      "cell_type": "code",
      "metadata": {
        "id": "VakE35sMSVn0",
        "colab_type": "code",
        "colab": {}
      },
      "source": [
        "results = mod.fit()\n",
        "print(results.summary().tables[1])"
      ],
      "execution_count": 0,
      "outputs": []
    },
    {
      "cell_type": "code",
      "metadata": {
        "id": "TXdTIYxPSkzU",
        "colab_type": "code",
        "colab": {}
      },
      "source": [
        "date_input = '2020-02-25' #@param {type:\"date\"}\n",
        "pred = results.get_prediction(start=pd.to_datetime(date_input), dynamic=False)\n",
        "pred_ci = pred.conf_int()"
      ],
      "execution_count": 0,
      "outputs": []
    },
    {
      "cell_type": "code",
      "metadata": {
        "id": "hvGEodqLS1iE",
        "colab_type": "code",
        "colab": {}
      },
      "source": [
        "fig = go.Figure()\n",
        "fig.add_trace(go.Scatter(x=train[cases].index, y=train[cases].values,\n",
        "                    mode='lines',\n",
        "                    name=cases))\n",
        "fig.add_trace(go.Scatter(x=pred.predicted_mean.index, y=pred.predicted_mean.values.astype(int),\n",
        "                    mode='lines',\n",
        "                    name='Predictions'))\n",
        "fig.show()\n"
      ],
      "execution_count": 0,
      "outputs": []
    },
    {
      "cell_type": "code",
      "metadata": {
        "id": "y8gXC-1aUgRr",
        "colab_type": "code",
        "colab": {}
      },
      "source": [
        "pred_uc = results.get_forecast(steps=len(valid)+(15-len(valid)))\n",
        "pred_ci = pred_uc.conf_int()\n",
        "\n",
        "fig = go.Figure()\n",
        "fig.add_trace(go.Scatter(x=df1[cases].index, y=df1[cases].values,\n",
        "                    mode='lines',\n",
        "                    name=cases))\n",
        "fig.add_trace(go.Scatter(x=pred_uc.predicted_mean.index, y=pred_uc.predicted_mean.values.astype(int),\n",
        "                    mode='lines',\n",
        "                    name='Predictions'))\n",
        "fig.show()\n"
      ],
      "execution_count": 0,
      "outputs": []
    },
    {
      "cell_type": "code",
      "metadata": {
        "id": "-bib38XxVJWy",
        "colab_type": "code",
        "colab": {}
      },
      "source": [
        "predictions=pred_uc.predicted_mean\n",
        "predictions.astype(int)"
      ],
      "execution_count": 0,
      "outputs": []
    }
  ]
}